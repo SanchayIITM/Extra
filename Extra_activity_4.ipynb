{
  "nbformat": 4,
  "nbformat_minor": 0,
  "metadata": {
    "colab": {
      "name": "Extra activity 4.ipynb",
      "provenance": [],
      "collapsed_sections": []
    },
    "kernelspec": {
      "name": "python3",
      "display_name": "Python 3"
    }
  },
  "cells": [
    {
      "cell_type": "markdown",
      "metadata": {
        "id": "DFVYyoMKKj7i"
      },
      "source": [
        "# Probability in Python"
      ]
    },
    {
      "cell_type": "markdown",
      "metadata": {
        "id": "yQnPw68Ono8S"
      },
      "source": [
        "# Importing packages\n"
      ]
    },
    {
      "cell_type": "code",
      "metadata": {
        "id": "pV7_0aGuiytb"
      },
      "source": [
        "import numpy as np"
      ],
      "execution_count": null,
      "outputs": []
    },
    {
      "cell_type": "markdown",
      "metadata": {
        "id": "8t26cBgqYdR0"
      },
      "source": [
        "# Import statistics module\n",
        "We will use scipy.stats, which has several functions for statistics and probability distributions. "
      ]
    },
    {
      "cell_type": "code",
      "metadata": {
        "id": "cfuXiM6_YopX"
      },
      "source": [
        "import scipy.stats as st"
      ],
      "execution_count": null,
      "outputs": []
    },
    {
      "cell_type": "markdown",
      "metadata": {
        "id": "oixdxHiLXEbG"
      },
      "source": [
        "# Import pandas, matplotlib"
      ]
    },
    {
      "cell_type": "code",
      "metadata": {
        "id": "253oJrrPXJbG"
      },
      "source": [
        "import pandas as pd\n",
        "import matplotlib.pyplot as plt"
      ],
      "execution_count": null,
      "outputs": []
    },
    {
      "cell_type": "code",
      "metadata": {
        "id": "6EKljwbsN4JB"
      },
      "source": [
        "def uniform(n, m):\n",
        "  return np.random.randint(1, n+1, size = m)"
      ],
      "execution_count": null,
      "outputs": []
    },
    {
      "cell_type": "markdown",
      "metadata": {
        "id": "fNTXoPKaytVy"
      },
      "source": [
        "# Probability of die showing a number\n",
        "\n",
        "We will modify the Monte Carlo simulation above for finding the probability that a dies shows a number(1 or 3) falling in an event $A$.\n",
        "\n",
        "$P(A)$ = 1/6 + 1/6 (1/6 is probability of getting a 1 and 1/6 is probability of getting 3)\n",
        "        = 1/3 = 0.33\n",
        "\n",
        "We can see that the estimate is close to $P(A)$. If we change the loop iterations to 50000, the estimate will be much closer to $P(A)$ and more consistent as well. "
      ]
    },
    {
      "cell_type": "code",
      "metadata": {
        "colab": {
          "base_uri": "https://localhost:8080/"
        },
        "id": "-sM9qK9jMRVS",
        "outputId": "851b5ca5-d297-4681-cafe-a4511bc14b65"
      },
      "source": [
        "no = 0   #variable for storing number of event occurence\n",
        "for i in range(50000): #repetitions\n",
        "  die = uniform(6,1)  #experiment\n",
        "  if die == 1 or die == 3: #Event\n",
        "    no = no + 1\n",
        "print(\"Estimate = \" + str(no/50000)) #probability estimate by Monte Carlo"
      ],
      "execution_count": null,
      "outputs": [
        {
          "output_type": "stream",
          "name": "stdout",
          "text": [
            "Estimate = 0.33362\n"
          ]
        }
      ]
    }
  ]
}